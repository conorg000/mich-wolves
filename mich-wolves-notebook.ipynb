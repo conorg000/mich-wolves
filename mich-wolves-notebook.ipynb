{
 "cells": [
  {
   "cell_type": "markdown",
   "metadata": {},
   "source": [
    "# Assignment 4\n",
    "\n",
    "Before working on this assignment please read these instructions fully. In the submission area, you will notice that you can click the link to **Preview the Grading** for each step of the assignment. This is the criteria that will be used for peer grading. Please familiarize yourself with the criteria before beginning the assignment.\n",
    "\n",
    "This assignment requires that you to find **at least** two datasets on the web which are related, and that you visualize these datasets to answer a question with the broad topic of **sports or athletics** (see below) for the region of **Ann Arbor, Michigan, United States**, or **United States** more broadly.\n",
    "\n",
    "You can merge these datasets with data from different regions if you like! For instance, you might want to compare **Ann Arbor, Michigan, United States** to Ann Arbor, USA. In that case at least one source file must be about **Ann Arbor, Michigan, United States**.\n",
    "\n",
    "You are welcome to choose datasets at your discretion, but keep in mind **they will be shared with your peers**, so choose appropriate datasets. Sensitive, confidential, illicit, and proprietary materials are not good choices for datasets for this assignment. You are welcome to upload datasets of your own as well, and link to them using a third party repository such as github, bitbucket, pastebin, etc. Please be aware of the Coursera terms of service with respect to intellectual property.\n",
    "\n",
    "Also, you are welcome to preserve data in its original language, but for the purposes of grading you should provide english translations. You are welcome to provide multiple visuals in different languages if you would like!\n",
    "\n",
    "As this assignment is for the whole course, you must incorporate principles discussed in the first week, such as having as high data-ink ratio (Tufte) and aligning with Cairo’s principles of truth, beauty, function, and insight.\n",
    "\n",
    "Here are the assignment instructions:\n",
    "\n",
    " * State the region and the domain category that your data sets are about (e.g., **Ann Arbor, Michigan, United States** and **sports or athletics**).\n",
    " * You must state a question about the domain category and region that you identified as being interesting.\n",
    " * You must provide at least two links to available datasets. These could be links to files such as CSV or Excel files, or links to websites which might have data in tabular form, such as Wikipedia pages.\n",
    " * You must upload an image which addresses the research question you stated. In addition to addressing the question, this visual should follow Cairo's principles of truthfulness, functionality, beauty, and insightfulness.\n",
    " * You must contribute a short (1-2 paragraph) written justification of how your visualization addresses your stated research question.\n",
    "\n",
    "What do we mean by **sports or athletics**?  For this category we are interested in sporting events or athletics broadly, please feel free to creatively interpret the category when building your research question!\n",
    "\n",
    "## Tips\n",
    "* Wikipedia is an excellent source of data, and I strongly encourage you to explore it for new data sources.\n",
    "* Many governments run open data initiatives at the city, region, and country levels, and these are wonderful resources for localized data sources.\n",
    "* Several international agencies, such as the [United Nations](http://data.un.org/), the [World Bank](http://data.worldbank.org/), the [Global Open Data Index](http://index.okfn.org/place/) are other great places to look for data.\n",
    "* This assignment requires you to convert and clean datafiles. Check out the discussion forums for tips on how to do this from various sources, and share your successes with your fellow students!\n",
    "\n",
    "## Example\n",
    "Looking for an example? Here's what our course assistant put together for the **Ann Arbor, MI, USA** area using **sports and athletics** as the topic. [Example Solution File](./readonly/Assignment4_example.pdf)"
   ]
  },
  {
   "cell_type": "code",
   "execution_count": 1,
   "metadata": {
    "collapsed": true
   },
   "outputs": [],
   "source": [
    "# colour indexed map\n",
    "# comparing all ncaa teams against each other, citing number of net wins\n",
    "# change colour of square accordingly\n",
    "# Who are U Michigans Wolvs' closest rivals, biggest threats, and easiest prey?"
   ]
  },
  {
   "cell_type": "code",
   "execution_count": 1,
   "metadata": {
    "collapsed": false
   },
   "outputs": [
    {
     "name": "stdout",
     "output_type": "stream",
     "text": [
      "Requirement already satisfied: requests in /opt/conda/lib/python3.6/site-packages\n",
      "Requirement already satisfied: BeautifulSoup4 in /opt/conda/lib/python3.6/site-packages\n",
      "Requirement already satisfied: chardet<3.1.0,>=3.0.2 in /opt/conda/lib/python3.6/site-packages (from requests)\n",
      "Requirement already satisfied: idna<2.7,>=2.5 in /opt/conda/lib/python3.6/site-packages (from requests)\n",
      "Requirement already satisfied: urllib3<1.23,>=1.21.1 in /opt/conda/lib/python3.6/site-packages (from requests)\n",
      "Requirement already satisfied: certifi>=2017.4.17 in /opt/conda/lib/python3.6/site-packages (from requests)\n",
      "\u001b[33mYou are using pip version 9.0.1, however version 19.1.1 is available.\n",
      "You should consider upgrading via the 'pip install --upgrade pip' command.\u001b[0m\n"
     ]
    }
   ],
   "source": [
    "# Let's make a web scraper\n",
    "!pip install requests BeautifulSoup4\n",
    "from requests import get\n",
    "from requests.exceptions import RequestException\n",
    "from contextlib import closing\n",
    "from bs4 import BeautifulSoup\n",
    "import pandas as pd\n",
    "import numpy as np\n",
    "import matplotlib.pyplot as plt\n",
    "import seaborn as sns"
   ]
  },
  {
   "cell_type": "code",
   "execution_count": null,
   "metadata": {
    "collapsed": true
   },
   "outputs": [],
   "source": [
    "# Function to get page from its url\n",
    "# Got this from https://realpython.com/python-web-scraping-practical-introduction/\n",
    "def simple_get(url):\n",
    "    try:\n",
    "        with closing(get(url, stream=True)) as resp:\n",
    "            if is_good_response(resp):\n",
    "                return resp.content\n",
    "            else:\n",
    "                return None\n",
    "    except RequestException as e:\n",
    "        log_error('Error during requests to {0} : {1}'.format(url, str(e)))\n",
    "        return None\n",
    "    \n",
    "def is_good_response(resp):\n",
    "    content_type = resp.headers['Content-Type'].lower()\n",
    "    return (resp.status_code == 200\n",
    "            and content_type is not None\n",
    "            and content_type.find('html') > -1)\n",
    "\n",
    "def log_error(e):\n",
    "    print(e)"
   ]
  },
  {
   "cell_type": "code",
   "execution_count": null,
   "metadata": {
    "collapsed": false
   },
   "outputs": [],
   "source": [
    "# Testing new function\n",
    "# Should output some big number\n",
    "raw_html = simple_get('https://google.com')\n",
    "len(raw_html)"
   ]
  },
  {
   "cell_type": "code",
   "execution_count": null,
   "metadata": {
    "collapsed": false
   },
   "outputs": [],
   "source": [
    "# This function uses BeautifulSoup to scrape data from\n",
    "# pages containing Michigan's results\n",
    "def get_data(url):\n",
    "    '''\n",
    "    Get the seasons data for Michigan\n",
    "    '''\n",
    "    # Dict to store results (change this to pd later)\n",
    "    df = pd.DataFrame(columns=['Opponent', 'Net Wins'])\n",
    "    # List of teams (for checking purposes)\n",
    "    tms = []\n",
    "    # Loop through seasons 2010 to 2019\n",
    "    for n in range(10, 20):\n",
    "        # Fetch results\n",
    "        response = simple_get(url.format(n))\n",
    "        # Parse with BS\n",
    "        if response is not None:\n",
    "            html = BeautifulSoup(response, 'html.parser')\n",
    "            # For each table entry, find ones related to Big Ten Conference\n",
    "            for tr in html.select('tr'):\n",
    "                bigtens = tr.find('a', {'title' : 'Big Ten Conference'})\n",
    "                team = ''\n",
    "                res = ''\n",
    "                if bigtens != None:\n",
    "                    # If it's a Big Ten match, get the team name and result\n",
    "                    team = tr.find('td', {'data-stat' : 'opp_name'}).find('a').contents[0]\n",
    "                    res = tr.find('td', {'data-stat' : 'game_result'}).contents[0]\n",
    "                    # If the team isn't already in the dict, set its value to 0\n",
    "                    if team not in tms:\n",
    "                        tms.append(team)\n",
    "                        df = df.append(pd.DataFrame([[team, 0]], columns=['Opponent', 'Net Wins']), ignore_index=True)\n",
    "                    # If result is 'W', add 1 to team's value in dictionary\n",
    "                    # Otherwise, take 1 from team's value\n",
    "                    if res == 'W':\n",
    "                        df.loc[df['Opponent'] == team, 'Net Wins'] += 1\n",
    "                    else:\n",
    "                        df.loc[df['Opponent'] == team, 'Net Wins'] -= 1\n",
    "                else:\n",
    "                    continue\n",
    "    return(df)"
   ]
  },
  {
   "cell_type": "code",
   "execution_count": null,
   "metadata": {
    "collapsed": true
   },
   "outputs": [],
   "source": [
    "# Use the webscraper to collate data from 2010 to 2019\n",
    "src = 'https://www.sports-reference.com/cbb/schools/michigan/20{}-schedule.html'\n",
    "data = get_data(src)"
   ]
  },
  {
   "cell_type": "code",
   "execution_count": null,
   "metadata": {
    "collapsed": false
   },
   "outputs": [],
   "source": [
    "# Table listing Wolverines' performance against other teams\n",
    "data = data.sort_values(by='Net Wins', ascending=False)\n",
    "data['Xpos'] = 1\n",
    "data.insert(3,'Ypos', range(1, 1 + len(data)))"
   ]
  },
  {
   "cell_type": "code",
   "execution_count": null,
   "metadata": {
    "collapsed": false
   },
   "outputs": [],
   "source": [
    "data"
   ]
  },
  {
   "cell_type": "code",
   "execution_count": null,
   "metadata": {
    "collapsed": false
   },
   "outputs": [],
   "source": [
    "res = data.pivot(index='Ypos', columns='Xpos', values='Net Wins')\n",
    "res"
   ]
  },
  {
   "cell_type": "code",
   "execution_count": null,
   "metadata": {
    "collapsed": false
   },
   "outputs": [],
   "source": [
    "names = data.pivot(index='Ypos', columns='Xpos', values='Opponent')\n",
    "teams = list(names[1])\n",
    "teams = [str(x) for x in teams]\n",
    "tser = pd.Series(teams)\n",
    "# Use this to check the data type of objects (sometimes they are NavigableStrings... bad)\n",
    "# type(names.iloc[0][1])\n",
    "teams"
   ]
  },
  {
   "cell_type": "code",
   "execution_count": null,
   "metadata": {
    "collapsed": false
   },
   "outputs": [],
   "source": [
    "plt.clf()\n",
    "fig, ax = plt.subplots(figsize=(3,8))\n",
    "title = \"Michigan Wolverine's Rivals\"\n",
    "plt.title(title, fontsize=15)\n",
    "sns.heatmap(res)\n",
    "ax.axis('off')\n",
    "ax.set_xticks([])\n",
    "ax.set_yticks([])\n",
    "plt.show()"
   ]
  },
  {
   "cell_type": "code",
   "execution_count": null,
   "metadata": {
    "collapsed": true
   },
   "outputs": [],
   "source": []
  },
  {
   "cell_type": "code",
   "execution_count": null,
   "metadata": {
    "collapsed": true
   },
   "outputs": [],
   "source": []
  }
 ],
 "metadata": {
  "kernelspec": {
   "display_name": "Python 3",
   "language": "python",
   "name": "python3"
  },
  "language_info": {
   "codemirror_mode": {
    "name": "ipython",
    "version": 3
   },
   "file_extension": ".py",
   "mimetype": "text/x-python",
   "name": "python",
   "nbconvert_exporter": "python",
   "pygments_lexer": "ipython3",
   "version": "3.6.2"
  }
 },
 "nbformat": 4,
 "nbformat_minor": 1
}
